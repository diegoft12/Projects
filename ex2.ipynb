{
 "cells": [
  {
   "cell_type": "markdown",
   "metadata": {
    "id": "wbm4jBRG9BXE"
   },
   "source": [
    "## Simulating data and learning from it"
   ]
  },
  {
   "cell_type": "markdown",
   "metadata": {
    "id": "Ct5Y57c2RNSY"
   },
   "source": [
    "**1. Variable Simulation (You are only allowed to use the numpy library for this section)**\n",
    "\n",
    "**1.1.** Simulate a vector of shape=(100,1) (i.e. 100 rows and 1 column) where each element $\\epsilon_t$ is equal to the realization of a normal random variable with mean 0 and standard deviation 1.  ( $\\epsilon_t$ ~ $N(0,1)$)"
   ]
  },
  {
   "cell_type": "code",
   "execution_count": 1,
   "metadata": {
    "id": "87VU40jEYM0i"
   },
   "outputs": [],
   "source": [
    "import numpy as np"
   ]
  },
  {
   "cell_type": "markdown",
   "metadata": {
    "id": "WzwVRAdQT73S"
   },
   "source": [
    "**1.2.** Simulate 2 vectors $X^{(1)}$ and $X^{(2)}$ of shape=(100,1) each, where each element is equal to:\n",
    "\n",
    "$x^{(1)}_t = 0.5 x^{(1)}_{t-1}+\\epsilon^{(1)}_t$   Where $\\epsilon^{(1)}_t$ ~ $N(0,1)$ and $x^{(1)}_0=0$\n",
    "\n",
    "$x^{(2)}_t = 0.8 x^{(2)}_{t-1}+\\epsilon^{(2)}_t$ Where $\\epsilon^{(2)}_t$ ~ $N(0,1)$ and $x^{(2)}_0=0$\n",
    "\n",
    "Of course, the vectors $X^{(1)}$ and $X^{(2)}$ are:\n",
    "\n",
    "$X^{(1)}=[x^{(1)}_0, x^{(1)}_1,x^{(1)}_2,...,x^{(1)}_{99}]'$ \n",
    "\n",
    "$X^{(2)}=[x^{(2)}_0, x^{(2)}_1,x^{(2)}_2,...,x^{(2)}_{99}]'$ \n",
    "\n"
   ]
  },
  {
   "cell_type": "code",
   "execution_count": 2,
   "metadata": {},
   "outputs": [],
   "source": [
    "# set seed\n",
    "np.random.seed(42)\n",
    "steps = 100\n",
    "\n",
    "# X1\n",
    "rho1 = 0.5\n",
    "e1 = np.random.randn(steps)\n",
    "\n",
    "X1 = list(np.zeros(steps))\n",
    "X1[:] = map(lambda x, y: rho1*X1[y] + x, list(e1), list(range(steps)))\n",
    "X1 = np.reshape(X1, (100,1))\n",
    "\n",
    "# X2\n",
    "rho2 = 0.8\n",
    "e2 = np.random.randn(steps)\n",
    "\n",
    "X2 = list(np.zeros(steps))\n",
    "X2[:] = map(lambda x, y: rho2*X2[y] + x, list(e2), list(range(steps)))\n",
    "X2 = np.reshape(X2, (100,1))"
   ]
  },
  {
   "cell_type": "markdown",
   "metadata": {
    "id": "BHSw8FwP4kVP"
   },
   "source": [
    "**1.3.** Generate the variable $Y=2 X^{(1)}+ 3X^{(2)} + \\nu$  Where $\\nu_t\n",
    "$ ~ $N(0,1)$ \n"
   ]
  },
  {
   "cell_type": "code",
   "execution_count": 3,
   "metadata": {
    "id": "qWFTO6jIVIZh"
   },
   "outputs": [
    {
     "name": "stdout",
     "output_type": "stream",
     "text": [
      "(100, 1)\n",
      "(100, 1)\n"
     ]
    }
   ],
   "source": [
    "# term v\n",
    "v = np.random.normal(loc = 0, scale = 1, size = (100, 1))\n",
    "print(v.shape)\n",
    "\n",
    "# Set Y variable\n",
    "Y = 2*X1 + 3*X2 + v\n",
    "\n",
    "print(Y.shape)"
   ]
  },
  {
   "cell_type": "markdown",
   "metadata": {
    "id": "99rMsuYO5XJr"
   },
   "source": [
    "**2. Estimation (You are only allowed to use the numpy library for this question)**"
   ]
  },
  {
   "cell_type": "markdown",
   "metadata": {
    "id": "-DI6M2tr51yv"
   },
   "source": [
    "**2.1.** Generate a function called `ols_estimator(y,X)` that returns the estimated coefficients $\\hat{\\beta}$ for the equation $y=X\\beta+\\upsilon$"
   ]
  },
  {
   "cell_type": "code",
   "execution_count": 4,
   "metadata": {
    "id": "vjRuDqaQ4x82"
   },
   "outputs": [
    {
     "name": "stdout",
     "output_type": "stream",
     "text": [
      "[[0.08864867]\n",
      " [2.22608936]\n",
      " [2.98772322]]\n"
     ]
    }
   ],
   "source": [
    "def ols_estimator(X, y):\n",
    "    coefs = np.linalg.inv(X.T.dot(X)).dot(X.T).dot(y)\n",
    "    return coefs\n",
    "\n",
    "# set matrix X with one as intercept, X1 and X2 values\n",
    "X = np.c_[np.ones((100, 1)), X1, X2]\n",
    "\n",
    "# run the ols estimator\n",
    "ols_est = ols_estimator(X, Y)\n",
    "print(ols_est)"
   ]
  },
  {
   "cell_type": "markdown",
   "metadata": {
    "id": "I_EEPr83-4MJ"
   },
   "source": [
    " **3. You are only allowed to use the Scikit-Learn for this question**"
   ]
  },
  {
   "cell_type": "markdown",
   "metadata": {
    "id": "tYghO18K_hsf"
   },
   "source": [
    "**3.1.** Use `sklearn.linear_model.LinearRegression` to estimate and report the oefficients $\\hat{\\beta}$ for the equation $y=X\\beta+\\upsilon$"
   ]
  },
  {
   "cell_type": "code",
   "execution_count": 5,
   "metadata": {
    "id": "mygRRZ0jVK08"
   },
   "outputs": [
    {
     "name": "stdout",
     "output_type": "stream",
     "text": [
      "[[0.         2.22608936 2.98772322]]\n"
     ]
    }
   ],
   "source": [
    "from sklearn.linear_model import LinearRegression\n",
    "\n",
    "# initialize linear regression\n",
    "lr = LinearRegression()\n",
    "lr.fit(X,Y)\n",
    "lr_coefs = lr.coef_\n",
    "print(lr_coefs)"
   ]
  },
  {
   "cell_type": "markdown",
   "metadata": {
    "id": "AqT-1iEM0F69"
   },
   "source": [
    "## Dealing with data"
   ]
  },
  {
   "cell_type": "markdown",
   "metadata": {
    "id": "QJcryo5q_2Vz"
   },
   "source": [
    "**4. For this section, you are only allowed to use pandas or maybe numpy**\n",
    "\n",
    "Some text files with data from identify people by RENIEC from 2014 through 2020 (pob_identificada_YYYY.txt) will be share to you. Before you begin to answer any question in this section, you have to load these files and consolidate them into a single DataFrame (df)"
   ]
  },
  {
   "cell_type": "code",
   "execution_count": 6,
   "metadata": {
    "id": "sAGTauOrRKsO"
   },
   "outputs": [],
   "source": [
    "import pandas as pd\n",
    "import os"
   ]
  },
  {
   "cell_type": "code",
   "execution_count": 7,
   "metadata": {},
   "outputs": [
    {
     "name": "stdout",
     "output_type": "stream",
     "text": [
      "['pob_identificada_2014.txt', 'pob_identificada_2015.txt', 'pob_identificada_2016.txt', 'pob_identificada_2017.txt', 'pob_identificada_2018.txt', 'pob_identificada_2019.txt', 'pob_identificada_2020.txt']\n"
     ]
    }
   ],
   "source": [
    "# Open folder path\n",
    "folder_path = r'C:\\\\Users\\\\jerem\\\\Downloads\\\\pob_identificada_20\\\\'\n",
    "files = os.listdir(folder_path)\n",
    "print(files)"
   ]
  },
  {
   "cell_type": "code",
   "execution_count": 8,
   "metadata": {},
   "outputs": [],
   "source": [
    "# Function to import data\n",
    "def load_reniec_annual_data(filenames):\n",
    "    df_list = []\n",
    "    for filename in filenames:\n",
    "        df = pd.read_csv(folder_path + filename)\n",
    "        df['YEAR'] = int(''.join(filter(lambda i: i.isdigit(), filename)))  # Add YEAR column\n",
    "        df_list.append(df)\n",
    "    df_combined = pd.concat(df_list)\n",
    "    df_combined\n",
    "    return df_combined.reset_index(drop=True)"
   ]
  },
  {
   "cell_type": "code",
   "execution_count": 9,
   "metadata": {},
   "outputs": [
    {
     "name": "stderr",
     "output_type": "stream",
     "text": [
      "C:\\Users\\jerem\\AppData\\Local\\Temp/ipykernel_3308/3528459954.py:2: DtypeWarning: Columns (1,2) have mixed types.Specify dtype option on import or set low_memory=False.\n",
      "  df = load_reniec_annual_data(files)\n",
      "C:\\Users\\jerem\\AppData\\Local\\Temp/ipykernel_3308/3528459954.py:2: DtypeWarning: Columns (5,6,7) have mixed types.Specify dtype option on import or set low_memory=False.\n",
      "  df = load_reniec_annual_data(files)\n"
     ]
    },
    {
     "name": "stdout",
     "output_type": "stream",
     "text": [
      "Number of row/records: 2726214\n",
      "Number of columns/variables: 12\n"
     ]
    },
    {
     "data": {
      "text/html": [
       "<div>\n",
       "<style scoped>\n",
       "    .dataframe tbody tr th:only-of-type {\n",
       "        vertical-align: middle;\n",
       "    }\n",
       "\n",
       "    .dataframe tbody tr th {\n",
       "        vertical-align: top;\n",
       "    }\n",
       "\n",
       "    .dataframe thead th {\n",
       "        text-align: right;\n",
       "    }\n",
       "</style>\n",
       "<table border=\"1\" class=\"dataframe\">\n",
       "  <thead>\n",
       "    <tr style=\"text-align: right;\">\n",
       "      <th></th>\n",
       "      <th>RESIDENCIA</th>\n",
       "      <th>UBIGEO_RENIEC</th>\n",
       "      <th>UBIGEO_INEI</th>\n",
       "      <th>CONTINENTE</th>\n",
       "      <th>PAIS</th>\n",
       "      <th>DEPARTAMENTO</th>\n",
       "      <th>PROVINCIA</th>\n",
       "      <th>DISTRITO</th>\n",
       "      <th>SEXO</th>\n",
       "      <th>EDAD</th>\n",
       "      <th>CANTIDAD</th>\n",
       "      <th>YEAR</th>\n",
       "    </tr>\n",
       "  </thead>\n",
       "  <tbody>\n",
       "    <tr>\n",
       "      <th>0</th>\n",
       "      <td>Nacional</td>\n",
       "      <td>10101</td>\n",
       "      <td>10101</td>\n",
       "      <td>América</td>\n",
       "      <td>Perú</td>\n",
       "      <td>Amazonas</td>\n",
       "      <td>Chachapoyas</td>\n",
       "      <td>Chachapoyas</td>\n",
       "      <td>Hombre</td>\n",
       "      <td>0</td>\n",
       "      <td>315</td>\n",
       "      <td>2014</td>\n",
       "    </tr>\n",
       "    <tr>\n",
       "      <th>1</th>\n",
       "      <td>Nacional</td>\n",
       "      <td>10101</td>\n",
       "      <td>10101</td>\n",
       "      <td>América</td>\n",
       "      <td>Perú</td>\n",
       "      <td>Amazonas</td>\n",
       "      <td>Chachapoyas</td>\n",
       "      <td>Chachapoyas</td>\n",
       "      <td>Hombre</td>\n",
       "      <td>1</td>\n",
       "      <td>337</td>\n",
       "      <td>2014</td>\n",
       "    </tr>\n",
       "    <tr>\n",
       "      <th>2</th>\n",
       "      <td>Nacional</td>\n",
       "      <td>10101</td>\n",
       "      <td>10101</td>\n",
       "      <td>América</td>\n",
       "      <td>Perú</td>\n",
       "      <td>Amazonas</td>\n",
       "      <td>Chachapoyas</td>\n",
       "      <td>Chachapoyas</td>\n",
       "      <td>Hombre</td>\n",
       "      <td>2</td>\n",
       "      <td>311</td>\n",
       "      <td>2014</td>\n",
       "    </tr>\n",
       "    <tr>\n",
       "      <th>3</th>\n",
       "      <td>Nacional</td>\n",
       "      <td>10101</td>\n",
       "      <td>10101</td>\n",
       "      <td>América</td>\n",
       "      <td>Perú</td>\n",
       "      <td>Amazonas</td>\n",
       "      <td>Chachapoyas</td>\n",
       "      <td>Chachapoyas</td>\n",
       "      <td>Hombre</td>\n",
       "      <td>3</td>\n",
       "      <td>302</td>\n",
       "      <td>2014</td>\n",
       "    </tr>\n",
       "    <tr>\n",
       "      <th>4</th>\n",
       "      <td>Nacional</td>\n",
       "      <td>10101</td>\n",
       "      <td>10101</td>\n",
       "      <td>América</td>\n",
       "      <td>Perú</td>\n",
       "      <td>Amazonas</td>\n",
       "      <td>Chachapoyas</td>\n",
       "      <td>Chachapoyas</td>\n",
       "      <td>Hombre</td>\n",
       "      <td>4</td>\n",
       "      <td>276</td>\n",
       "      <td>2014</td>\n",
       "    </tr>\n",
       "  </tbody>\n",
       "</table>\n",
       "</div>"
      ],
      "text/plain": [
       "  RESIDENCIA UBIGEO_RENIEC UBIGEO_INEI CONTINENTE  PAIS DEPARTAMENTO  \\\n",
       "0   Nacional         10101       10101    América  Perú     Amazonas   \n",
       "1   Nacional         10101       10101    América  Perú     Amazonas   \n",
       "2   Nacional         10101       10101    América  Perú     Amazonas   \n",
       "3   Nacional         10101       10101    América  Perú     Amazonas   \n",
       "4   Nacional         10101       10101    América  Perú     Amazonas   \n",
       "\n",
       "     PROVINCIA     DISTRITO    SEXO  EDAD  CANTIDAD  YEAR  \n",
       "0  Chachapoyas  Chachapoyas  Hombre     0       315  2014  \n",
       "1  Chachapoyas  Chachapoyas  Hombre     1       337  2014  \n",
       "2  Chachapoyas  Chachapoyas  Hombre     2       311  2014  \n",
       "3  Chachapoyas  Chachapoyas  Hombre     3       302  2014  \n",
       "4  Chachapoyas  Chachapoyas  Hombre     4       276  2014  "
      ]
     },
     "execution_count": 9,
     "metadata": {},
     "output_type": "execute_result"
    }
   ],
   "source": [
    "# df\n",
    "df = load_reniec_annual_data(files)\n",
    "print(f\"Number of row/records: {df.shape[0]}\")\n",
    "print(f\"Number of columns/variables: {df.shape[1]}\")\n",
    "df.head()"
   ]
  },
  {
   "cell_type": "code",
   "execution_count": 10,
   "metadata": {},
   "outputs": [
    {
     "name": "stdout",
     "output_type": "stream",
     "text": [
      "UBIGEO_INEI      75968\n",
      "DEPARTAMENTO     75968\n",
      "PROVINCIA        75968\n",
      "DISTRITO         75968\n",
      "UBIGEO_RENIEC     9805\n",
      "RESIDENCIA           0\n",
      "CONTINENTE           0\n",
      "PAIS                 0\n",
      "SEXO                 0\n",
      "EDAD                 0\n",
      "CANTIDAD             0\n",
      "YEAR                 0\n",
      "dtype: int64\n",
      "\n",
      " NA values\n",
      "2019    66163\n",
      "2020     9805\n",
      "Name: YEAR, dtype: int64\n"
     ]
    }
   ],
   "source": [
    "# Missing values\n",
    "print(df.isnull().sum().sort_values(ascending=False))\n",
    "print(\"\\n NA values\")\n",
    "print(df[df['UBIGEO_INEI'].isna()]['YEAR'].value_counts())"
   ]
  },
  {
   "cell_type": "markdown",
   "metadata": {
    "id": "AuHUhscQ_4yQ"
   },
   "source": [
    "**4.1.** How many nonresident male were identified from 2018 through 2019?"
   ]
  },
  {
   "cell_type": "code",
   "execution_count": 11,
   "metadata": {
    "id": "jj2Nkjvf0p3V"
   },
   "outputs": [
    {
     "name": "stdout",
     "output_type": "stream",
     "text": [
      "There are 953841 male non residents from 2018 to 2019\n"
     ]
    }
   ],
   "source": [
    "# Non resident male group\n",
    "non_res_male_2018_2019 = df.loc[(df['RESIDENCIA'] == 'Extranjero') & (df['SEXO'] == 'Hombre') & (df['YEAR'].isin([2018,2019]))]\n",
    "\n",
    "print(f\"There are {non_res_male_2018_2019['CANTIDAD'].sum()} male non residents from 2018 to 2019\")"
   ]
  },
  {
   "cell_type": "markdown",
   "metadata": {
    "id": "cbSy_EWb6J8J"
   },
   "source": [
    "**4.2.** From 2016 through 2018 and in the department of Arequipa. What percentage of women represent female teenagers? [Hint: a teenager is a person whose age is between 10 to 19 years]"
   ]
  },
  {
   "cell_type": "code",
   "execution_count": 12,
   "metadata": {},
   "outputs": [
    {
     "data": {
      "text/html": [
       "<div>\n",
       "<style scoped>\n",
       "    .dataframe tbody tr th:only-of-type {\n",
       "        vertical-align: middle;\n",
       "    }\n",
       "\n",
       "    .dataframe tbody tr th {\n",
       "        vertical-align: top;\n",
       "    }\n",
       "\n",
       "    .dataframe thead th {\n",
       "        text-align: right;\n",
       "    }\n",
       "</style>\n",
       "<table border=\"1\" class=\"dataframe\">\n",
       "  <thead>\n",
       "    <tr style=\"text-align: right;\">\n",
       "      <th></th>\n",
       "      <th>Teenagers</th>\n",
       "      <th>Women</th>\n",
       "      <th>% Teenagers</th>\n",
       "    </tr>\n",
       "    <tr>\n",
       "      <th>YEAR</th>\n",
       "      <th></th>\n",
       "      <th></th>\n",
       "      <th></th>\n",
       "    </tr>\n",
       "  </thead>\n",
       "  <tbody>\n",
       "    <tr>\n",
       "      <th>2016</th>\n",
       "      <td>108458</td>\n",
       "      <td>731554</td>\n",
       "      <td>14.8</td>\n",
       "    </tr>\n",
       "    <tr>\n",
       "      <th>2017</th>\n",
       "      <td>108920</td>\n",
       "      <td>746625</td>\n",
       "      <td>14.6</td>\n",
       "    </tr>\n",
       "    <tr>\n",
       "      <th>2018</th>\n",
       "      <td>110037</td>\n",
       "      <td>757638</td>\n",
       "      <td>14.5</td>\n",
       "    </tr>\n",
       "  </tbody>\n",
       "</table>\n",
       "</div>"
      ],
      "text/plain": [
       "      Teenagers   Women  % Teenagers\n",
       "YEAR                                \n",
       "2016     108458  731554         14.8\n",
       "2017     108920  746625         14.6\n",
       "2018     110037  757638         14.5"
      ]
     },
     "metadata": {},
     "output_type": "display_data"
    },
    {
     "name": "stdout",
     "output_type": "stream",
     "text": [
      "Overall, female teenagers represent the 14.6% of women in Arequipa from 2016 through 2018\n"
     ]
    }
   ],
   "source": [
    "# Women and teenager groups\n",
    "women_2016_2018 = df.loc[(df['DEPARTAMENTO'] == 'Arequipa') & (df['SEXO'] == 'Mujer') & (df['YEAR'].isin([2016,2017,2018]))]\n",
    "teenager_2016_2018 = df.loc[(df['DEPARTAMENTO'] == 'Arequipa') & (df['SEXO'] == 'Mujer') & (df['YEAR'].isin([2016,2017,2018])) & (df['EDAD'].between(10, 19, inclusive = 'both'))]\n",
    "\n",
    "# Percentage of women who are teenagers\n",
    "percent_teenagers = pd.DataFrame()\n",
    "percent_teenagers['Teenagers'] = teenager_2016_2018.groupby('YEAR')['CANTIDAD'].sum()\n",
    "percent_teenagers['Women'] = women_2016_2018.groupby('YEAR')['CANTIDAD'].sum()\n",
    "percent_teenagers['% Teenagers'] = round(percent_teenagers['Teenagers'] * 100 / percent_teenagers['Women'], 1)\n",
    "\n",
    "# Print response\n",
    "display(percent_teenagers)\n",
    "print(f\"Overall, female teenagers represent the {round(teenager_2016_2018['CANTIDAD'].sum() *100 / women_2016_2018['CANTIDAD'].sum(), 1)}% of women in Arequipa from 2016 through 2018\")"
   ]
  },
  {
   "cell_type": "markdown",
   "metadata": {
    "id": "MVJuXrG28CB2"
   },
   "source": [
    "**4.3.** From 2014 through 2020, which year the average age of elderly people (age equal or greather than 60 years) identified was the higher?"
   ]
  },
  {
   "cell_type": "code",
   "execution_count": 13,
   "metadata": {
    "id": "vbhwB0WP8rvR"
   },
   "outputs": [
    {
     "name": "stderr",
     "output_type": "stream",
     "text": [
      "C:\\Users\\jerem\\AppData\\Local\\Temp/ipykernel_3308/1332363191.py:3: SettingWithCopyWarning: \n",
      "A value is trying to be set on a copy of a slice from a DataFrame.\n",
      "Try using .loc[row_indexer,col_indexer] = value instead\n",
      "\n",
      "See the caveats in the documentation: https://pandas.pydata.org/pandas-docs/stable/user_guide/indexing.html#returning-a-view-versus-a-copy\n",
      "  elderly_people['EDAD x CANTIDAD'] = elderly_people['EDAD'] * elderly_people['CANTIDAD']\n"
     ]
    },
    {
     "data": {
      "text/html": [
       "<div>\n",
       "<style scoped>\n",
       "    .dataframe tbody tr th:only-of-type {\n",
       "        vertical-align: middle;\n",
       "    }\n",
       "\n",
       "    .dataframe tbody tr th {\n",
       "        vertical-align: top;\n",
       "    }\n",
       "\n",
       "    .dataframe thead th {\n",
       "        text-align: right;\n",
       "    }\n",
       "</style>\n",
       "<table border=\"1\" class=\"dataframe\">\n",
       "  <thead>\n",
       "    <tr style=\"text-align: right;\">\n",
       "      <th></th>\n",
       "      <th>No. Elderly People</th>\n",
       "      <th>Avg Age</th>\n",
       "    </tr>\n",
       "    <tr>\n",
       "      <th>YEAR</th>\n",
       "      <th></th>\n",
       "      <th></th>\n",
       "    </tr>\n",
       "  </thead>\n",
       "  <tbody>\n",
       "    <tr>\n",
       "      <th>2018</th>\n",
       "      <td>4157315</td>\n",
       "      <td>70.59</td>\n",
       "    </tr>\n",
       "    <tr>\n",
       "      <th>2019</th>\n",
       "      <td>4345703</td>\n",
       "      <td>70.58</td>\n",
       "    </tr>\n",
       "    <tr>\n",
       "      <th>2017</th>\n",
       "      <td>3997698</td>\n",
       "      <td>70.57</td>\n",
       "    </tr>\n",
       "    <tr>\n",
       "      <th>2020</th>\n",
       "      <td>4476733</td>\n",
       "      <td>70.54</td>\n",
       "    </tr>\n",
       "    <tr>\n",
       "      <th>2016</th>\n",
       "      <td>3848590</td>\n",
       "      <td>70.53</td>\n",
       "    </tr>\n",
       "    <tr>\n",
       "      <th>2015</th>\n",
       "      <td>3681472</td>\n",
       "      <td>70.49</td>\n",
       "    </tr>\n",
       "    <tr>\n",
       "      <th>2014</th>\n",
       "      <td>3514966</td>\n",
       "      <td>70.47</td>\n",
       "    </tr>\n",
       "  </tbody>\n",
       "</table>\n",
       "</div>"
      ],
      "text/plain": [
       "      No. Elderly People  Avg Age\n",
       "YEAR                             \n",
       "2018             4157315    70.59\n",
       "2019             4345703    70.58\n",
       "2017             3997698    70.57\n",
       "2020             4476733    70.54\n",
       "2016             3848590    70.53\n",
       "2015             3681472    70.49\n",
       "2014             3514966    70.47"
      ]
     },
     "metadata": {},
     "output_type": "display_data"
    },
    {
     "name": "stdout",
     "output_type": "stream",
     "text": [
      "\n",
      " The average age of elderly people was higher in 2018\n"
     ]
    }
   ],
   "source": [
    "# Elderly people\n",
    "elderly_people = df.loc[df['EDAD'] >= 60]\n",
    "elderly_people['EDAD x CANTIDAD'] = elderly_people['EDAD'] * elderly_people['CANTIDAD']\n",
    "#elderly_people\n",
    "\n",
    "# Average age of elderly people\n",
    "avg_elderly = pd.DataFrame()\n",
    "avg_elderly['No. Elderly People'] = elderly_people.groupby('YEAR')['CANTIDAD'].sum()\n",
    "avg_elderly['Avg Age'] = round(elderly_people.groupby('YEAR')['EDAD x CANTIDAD'].sum() / avg_elderly['No. Elderly People'], 2)\n",
    "avg_elderly = avg_elderly.sort_values(by = 'Avg Age', ascending = False)\n",
    "\n",
    "avg_elderly\n",
    "\n",
    "display(avg_elderly)\n",
    "print(\"\\n The average age of elderly people was higher in 2018\")"
   ]
  },
  {
   "cell_type": "markdown",
   "metadata": {},
   "source": [
    "**4.4** Please show the top 5 cities with highest average age both males and females"
   ]
  },
  {
   "cell_type": "code",
   "execution_count": 14,
   "metadata": {},
   "outputs": [
    {
     "name": "stderr",
     "output_type": "stream",
     "text": [
      "C:\\Users\\jerem\\AppData\\Local\\Temp/ipykernel_3308/2509590050.py:6: SettingWithCopyWarning: \n",
      "A value is trying to be set on a copy of a slice from a DataFrame.\n",
      "Try using .loc[row_indexer,col_indexer] = value instead\n",
      "\n",
      "See the caveats in the documentation: https://pandas.pydata.org/pandas-docs/stable/user_guide/indexing.html#returning-a-view-versus-a-copy\n",
      "  men['EDAD x CANTIDAD'] = men['EDAD'] * men['CANTIDAD']\n",
      "C:\\Users\\jerem\\AppData\\Local\\Temp/ipykernel_3308/2509590050.py:15: SettingWithCopyWarning: \n",
      "A value is trying to be set on a copy of a slice from a DataFrame.\n",
      "Try using .loc[row_indexer,col_indexer] = value instead\n",
      "\n",
      "See the caveats in the documentation: https://pandas.pydata.org/pandas-docs/stable/user_guide/indexing.html#returning-a-view-versus-a-copy\n",
      "  women['EDAD x CANTIDAD'] = women['EDAD'] * women['CANTIDAD']\n"
     ]
    },
    {
     "data": {
      "text/html": [
       "<div>\n",
       "<style scoped>\n",
       "    .dataframe tbody tr th:only-of-type {\n",
       "        vertical-align: middle;\n",
       "    }\n",
       "\n",
       "    .dataframe tbody tr th {\n",
       "        vertical-align: top;\n",
       "    }\n",
       "\n",
       "    .dataframe thead th {\n",
       "        text-align: right;\n",
       "    }\n",
       "</style>\n",
       "<table border=\"1\" class=\"dataframe\">\n",
       "  <thead>\n",
       "    <tr style=\"text-align: right;\">\n",
       "      <th></th>\n",
       "      <th>Total men</th>\n",
       "      <th>Avg Age</th>\n",
       "    </tr>\n",
       "    <tr>\n",
       "      <th>DEPARTAMENTO</th>\n",
       "      <th></th>\n",
       "      <th></th>\n",
       "    </tr>\n",
       "  </thead>\n",
       "  <tbody>\n",
       "    <tr>\n",
       "      <th>Moquegua</th>\n",
       "      <td>677428</td>\n",
       "      <td>33.96</td>\n",
       "    </tr>\n",
       "    <tr>\n",
       "      <th>Arequipa</th>\n",
       "      <td>5288014</td>\n",
       "      <td>32.32</td>\n",
       "    </tr>\n",
       "    <tr>\n",
       "      <th>Lima</th>\n",
       "      <td>37979882</td>\n",
       "      <td>32.31</td>\n",
       "    </tr>\n",
       "    <tr>\n",
       "      <th>Tacna</th>\n",
       "      <td>1306802</td>\n",
       "      <td>32.04</td>\n",
       "    </tr>\n",
       "    <tr>\n",
       "      <th>Áncash</th>\n",
       "      <td>4332095</td>\n",
       "      <td>31.71</td>\n",
       "    </tr>\n",
       "  </tbody>\n",
       "</table>\n",
       "</div>"
      ],
      "text/plain": [
       "              Total men  Avg Age\n",
       "DEPARTAMENTO                    \n",
       "Moquegua         677428    33.96\n",
       "Arequipa        5288014    32.32\n",
       "Lima           37979882    32.31\n",
       "Tacna           1306802    32.04\n",
       "Áncash          4332095    31.71"
      ]
     },
     "metadata": {},
     "output_type": "display_data"
    },
    {
     "name": "stdout",
     "output_type": "stream",
     "text": [
      "\n",
      "\n"
     ]
    },
    {
     "data": {
      "text/html": [
       "<div>\n",
       "<style scoped>\n",
       "    .dataframe tbody tr th:only-of-type {\n",
       "        vertical-align: middle;\n",
       "    }\n",
       "\n",
       "    .dataframe tbody tr th {\n",
       "        vertical-align: top;\n",
       "    }\n",
       "\n",
       "    .dataframe thead th {\n",
       "        text-align: right;\n",
       "    }\n",
       "</style>\n",
       "<table border=\"1\" class=\"dataframe\">\n",
       "  <thead>\n",
       "    <tr style=\"text-align: right;\">\n",
       "      <th></th>\n",
       "      <th>Total women</th>\n",
       "      <th>Avg Age</th>\n",
       "    </tr>\n",
       "    <tr>\n",
       "      <th>DEPARTAMENTO</th>\n",
       "      <th></th>\n",
       "      <th></th>\n",
       "    </tr>\n",
       "  </thead>\n",
       "  <tbody>\n",
       "    <tr>\n",
       "      <th>Moquegua</th>\n",
       "      <td>654832</td>\n",
       "      <td>33.76</td>\n",
       "    </tr>\n",
       "    <tr>\n",
       "      <th>Lima</th>\n",
       "      <td>38174585</td>\n",
       "      <td>33.42</td>\n",
       "    </tr>\n",
       "    <tr>\n",
       "      <th>Arequipa</th>\n",
       "      <td>5197462</td>\n",
       "      <td>33.12</td>\n",
       "    </tr>\n",
       "    <tr>\n",
       "      <th>Áncash</th>\n",
       "      <td>4304494</td>\n",
       "      <td>32.66</td>\n",
       "    </tr>\n",
       "    <tr>\n",
       "      <th>Callao</th>\n",
       "      <td>3852967</td>\n",
       "      <td>32.59</td>\n",
       "    </tr>\n",
       "  </tbody>\n",
       "</table>\n",
       "</div>"
      ],
      "text/plain": [
       "              Total women  Avg Age\n",
       "DEPARTAMENTO                      \n",
       "Moquegua           654832    33.76\n",
       "Lima             38174585    33.42\n",
       "Arequipa          5197462    33.12\n",
       "Áncash            4304494    32.66\n",
       "Callao            3852967    32.59"
      ]
     },
     "metadata": {},
     "output_type": "display_data"
    }
   ],
   "source": [
    "# men and women groups\n",
    "men = df.loc[df['SEXO'] == 'Hombre']\n",
    "women = df.loc[df['SEXO'] == 'Mujer']\n",
    "\n",
    "# create new column in men group\n",
    "men['EDAD x CANTIDAD'] = men['EDAD'] * men['CANTIDAD']\n",
    "\n",
    "# Average age of elderly people\n",
    "avg_men = pd.DataFrame()\n",
    "avg_men['Total men'] = men.groupby('DEPARTAMENTO')['CANTIDAD'].sum()\n",
    "avg_men['Avg Age'] = round(men.groupby('DEPARTAMENTO')['EDAD x CANTIDAD'].sum() / avg_men['Total men'], 2)\n",
    "avg_men = avg_men.sort_values(by = 'Avg Age', ascending = False)\n",
    "\n",
    "# create new column in women group\n",
    "women['EDAD x CANTIDAD'] = women['EDAD'] * women['CANTIDAD']\n",
    "\n",
    "# Average age of elderly people\n",
    "avg_women = pd.DataFrame()\n",
    "avg_women['Total women'] = women.groupby('DEPARTAMENTO')['CANTIDAD'].sum()\n",
    "avg_women['Avg Age'] = round(women.groupby('DEPARTAMENTO')['EDAD x CANTIDAD'].sum() / avg_women['Total women'], 2)\n",
    "avg_women = avg_women.sort_values(by = 'Avg Age', ascending = False)\n",
    "\n",
    "display(avg_men.iloc[1:6])\n",
    "print(\"\\n\")\n",
    "display(avg_women.iloc[1:6])"
   ]
  },
  {
   "cell_type": "markdown",
   "metadata": {},
   "source": [
    "**4.5.** Please, test whether the average ages of women and men are statistically different. Prove it with python\n",
    "###### hint: You could plot a histogram to explain your idea."
   ]
  },
  {
   "cell_type": "code",
   "execution_count": 15,
   "metadata": {},
   "outputs": [
    {
     "data": {
      "text/html": [
       "<div>\n",
       "<style scoped>\n",
       "    .dataframe tbody tr th:only-of-type {\n",
       "        vertical-align: middle;\n",
       "    }\n",
       "\n",
       "    .dataframe tbody tr th {\n",
       "        vertical-align: top;\n",
       "    }\n",
       "\n",
       "    .dataframe thead tr th {\n",
       "        text-align: left;\n",
       "    }\n",
       "\n",
       "    .dataframe thead tr:last-of-type th {\n",
       "        text-align: right;\n",
       "    }\n",
       "</style>\n",
       "<table border=\"1\" class=\"dataframe\">\n",
       "  <thead>\n",
       "    <tr>\n",
       "      <th></th>\n",
       "      <th colspan=\"3\" halign=\"left\">EDAD</th>\n",
       "    </tr>\n",
       "    <tr>\n",
       "      <th></th>\n",
       "      <th>mean</th>\n",
       "      <th>median</th>\n",
       "      <th>std</th>\n",
       "    </tr>\n",
       "    <tr>\n",
       "      <th>SEXO</th>\n",
       "      <th></th>\n",
       "      <th></th>\n",
       "      <th></th>\n",
       "    </tr>\n",
       "  </thead>\n",
       "  <tbody>\n",
       "    <tr>\n",
       "      <th>Hombre</th>\n",
       "      <td>46.271548</td>\n",
       "      <td>46.0</td>\n",
       "      <td>27.110814</td>\n",
       "    </tr>\n",
       "    <tr>\n",
       "      <th>Mujer</th>\n",
       "      <td>47.025492</td>\n",
       "      <td>46.0</td>\n",
       "      <td>27.553558</td>\n",
       "    </tr>\n",
       "  </tbody>\n",
       "</table>\n",
       "</div>"
      ],
      "text/plain": [
       "             EDAD                  \n",
       "             mean median        std\n",
       "SEXO                               \n",
       "Hombre  46.271548   46.0  27.110814\n",
       "Mujer   47.025492   46.0  27.553558"
      ]
     },
     "execution_count": 15,
     "metadata": {},
     "output_type": "execute_result"
    }
   ],
   "source": [
    "import matplotlib.pyplot as plt\n",
    "\n",
    "df.groupby(by = ['SEXO']).agg({'EDAD': ['mean', 'median', 'std']})"
   ]
  },
  {
   "cell_type": "code",
   "execution_count": 16,
   "metadata": {},
   "outputs": [
    {
     "data": {
      "text/plain": [
       "<AxesSubplot:ylabel='Density'>"
      ]
     },
     "execution_count": 16,
     "metadata": {},
     "output_type": "execute_result"
    },
    {
     "data": {
      "image/png": "[encoded data removed]",
      "text/plain": [
       "<Figure size 432x288 with 1 Axes>"
      ]
     },
     "metadata": {
      "needs_background": "light"
     },
     "output_type": "display_data"
    }
   ],
   "source": [
    "# Creating an list with bootstrapped means for each group\n",
    "boot_1d = []\n",
    "for i in range(10):\n",
    "    boot_mean = df.sample(frac = 1, replace = True).groupby('SEXO')['EDAD'].mean()\n",
    "    boot_1d.append(boot_mean)\n",
    "    \n",
    "# Transforming the list to a DataFrame\n",
    "boot_1d = pd.DataFrame(boot_1d)\n",
    "    \n",
    "# A Kernel Density Estimate plot of the bootstrap distributions\n",
    "boot_1d.plot(kind = 'kde')"
   ]
  },
  {
   "cell_type": "code",
   "execution_count": 17,
   "metadata": {},
   "outputs": [
    {
     "data": {
      "text/plain": [
       "Text(0.5, 0, '% difference in means')"
      ]
     },
     "execution_count": 17,
     "metadata": {},
     "output_type": "execute_result"
    },
    {
     "data": {
      "image/png": "[encoded data removed]",
      "text/plain": [
       "<Figure size 432x288 with 1 Axes>"
      ]
     },
     "metadata": {
      "needs_background": "light"
     },
     "output_type": "display_data"
    }
   ],
   "source": [
    "# Zoom in on the difference\n",
    "\n",
    "# Adding a column with the % difference between the two AB-groups\n",
    "boot_1d['diff'] = (boot_1d['Mujer'] - boot_1d['Hombre']) / boot_1d['Hombre'] * 100\n",
    "\n",
    "# Ploting the bootstrap % difference\n",
    "ax = boot_1d['diff'].plot(kind = 'kde')\n",
    "ax.set_xlabel('% difference in means')"
   ]
  },
  {
   "cell_type": "code",
   "execution_count": 18,
   "metadata": {},
   "outputs": [
    {
     "data": {
      "text/plain": [
       "Ttest_indResult(statistic=-22.76935644295718, pvalue=9.460286185227221e-115)"
      ]
     },
     "execution_count": 18,
     "metadata": {},
     "output_type": "execute_result"
    }
   ],
   "source": [
    "import scipy.stats as stats\n",
    "\n",
    "test = stats.ttest_ind(men['EDAD'], women['EDAD'])\n",
    "test"
   ]
  },
  {
   "cell_type": "markdown",
   "metadata": {},
   "source": [
    "The p-value is lower than 0.05 thus there is strong evidence of statitistical difference between men and women based on average age."
   ]
  }
 ],
 "metadata": {
  "colab": {
   "collapsed_sections": [],
   "name": "pruebaA3.ipynb",
   "provenance": []
  },
  "kernelspec": {
   "display_name": "Python 3 (ipykernel)",
   "language": "python",
   "name": "python3"
  },
  "language_info": {
   "codemirror_mode": {
    "name": "ipython",
    "version": 3
   },
   "file_extension": ".py",
   "mimetype": "text/x-python",
   "name": "python",
   "nbconvert_exporter": "python",
   "pygments_lexer": "ipython3",
   "version": "3.9.7"
  }
 },
 "nbformat": 4,
 "nbformat_minor": 4
}
